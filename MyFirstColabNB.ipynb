{
  "nbformat": 4,
  "nbformat_minor": 0,
  "metadata": {
    "colab": {
      "name": "MyFirstColabNB.ipynb",
      "provenance": [],
      "collapsed_sections": [],
      "authorship_tag": "ABX9TyOtYWPJKnOjd5Vf3uN5LsE+",
      "include_colab_link": true
    },
    "kernelspec": {
      "name": "python3",
      "display_name": "Python 3"
    }
  },
  "cells": [
    {
      "cell_type": "markdown",
      "metadata": {
        "id": "view-in-github",
        "colab_type": "text"
      },
      "source": [
        "<a href=\"https://colab.research.google.com/github/hvorerholger/hello-world/blob/master/MyFirstColabNB.ipynb\" target=\"_parent\"><img src=\"https://colab.research.google.com/assets/colab-badge.svg\" alt=\"Open In Colab\"/></a>"
      ]
    },
    {
      "cell_type": "code",
      "metadata": {
        "id": "BkVQ-hqvnLwX",
        "colab_type": "code",
        "outputId": "fab6ebc1-2b4f-427c-8858-d5a0afda574f",
        "colab": {
          "base_uri": "https://localhost:8080/",
          "height": 34
        }
      },
      "source": [
        "import time\n",
        "print(time.ctime())"
      ],
      "execution_count": 0,
      "outputs": [
        {
          "output_type": "stream",
          "text": [
            "Sun Feb 23 11:19:48 2020\n"
          ],
          "name": "stdout"
        }
      ]
    },
    {
      "cell_type": "markdown",
      "metadata": {
        "id": "xHyoVRlyoML9",
        "colab_type": "text"
      },
      "source": [
        "dit is **vet**\n",
        "dit is *schuin*\n",
        "dit is ~doorstreept~\n",
        "$\\sqrt(x-2) + (x+y)^2$\n",
        "$e^x = \\sum_{i = 0}^\\infty \\frac{1}{i!}x^i$"
      ]
    },
    {
      "cell_type": "code",
      "metadata": {
        "id": "4BGaghS9oKK1",
        "colab_type": "code",
        "outputId": "a7f0ef90-aa11-4cdd-aae0-9cc024fdb132",
        "colab": {
          "base_uri": "https://localhost:8080/",
          "height": 34
        }
      },
      "source": [
        "time.sleep(5)\n",
        "print(time.ctime())"
      ],
      "execution_count": 0,
      "outputs": [
        {
          "output_type": "stream",
          "text": [
            "Sun Feb 23 11:19:53 2020\n"
          ],
          "name": "stdout"
        }
      ]
    },
    {
      "cell_type": "markdown",
      "metadata": {
        "id": "rHag0zNLxX4Z",
        "colab_type": "text"
      },
      "source": [
        "Runtime / Run all ...       en je zal merken dat de volledige code van voorgaande cellen simulataan met 5 sec vertraging uitgevoerd wordt"
      ]
    },
    {
      "cell_type": "code",
      "metadata": {
        "id": "sJ2OdKFUnsEF",
        "colab_type": "code",
        "colab": {}
      },
      "source": [
        ""
      ],
      "execution_count": 0,
      "outputs": []
    },
    {
      "cell_type": "code",
      "metadata": {
        "id": "JprUFb4hoFvo",
        "colab_type": "code",
        "colab": {}
      },
      "source": [
        ""
      ],
      "execution_count": 0,
      "outputs": []
    }
  ]
}